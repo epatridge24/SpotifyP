{
 "cells": [
  {
   "cell_type": "code",
   "execution_count": null,
   "id": "72c5fd96-d8ab-4651-9c6a-65d6f5601366",
   "metadata": {},
   "outputs": [],
   "source": [
    "import spotipy\n",
    "from spotipy.oauth2 import SpotifyOAuth\n",
    "\n",
    "# Spotify API credentials (replace with your own)\n",
    "CLIENT_ID = \"Your_Client_ID\"\n",
    "CLIENT_SECRET = \"Your_Client_Secret\"\n",
    "REDIRECT_URI = \"http://localhost:8080/callback\"\n",
    "#http://localhost:8888/callback\n",
    "\n",
    "# Authenticate with Spotify (ensure you add 'user-top-read' scope)\n",
    "sp = spotipy.Spotify(auth_manager=SpotifyOAuth(\n",
    "    client_id=CLIENT_ID,\n",
    "    client_secret=CLIENT_SECRET,\n",
    "    redirect_uri=REDIRECT_URI,\n",
    "    scope=\"user-top-read\"\n",
    "))\n",
    "\n",
    "# Get the top 5 tracks from the last month\n",
    "def get_top_tracks():\n",
    "    top_tracks = sp.current_user_top_tracks(limit=5, time_range=\"short_term\")\n",
    "    for idx, item in enumerate(top_tracks['items']):\n",
    "        track_name = item['name']\n",
    "        artist_name = item['artists'][0]['name']\n",
    "        print(f\"{idx + 1}: {track_name} by {artist_name}\")\n",
    "\n",
    "# Get and print the top 5 songs\n",
    "get_top_tracks()\n"
   ]
  },
  {
   "cell_type": "code",
   "execution_count": null,
   "id": "4d22c717-5765-497e-b243-deaade853037",
   "metadata": {},
   "outputs": [],
   "source": [
    "from collections import Counter\n",
    "\n",
    "# Authenticate with Spotify\n",
    "sp = spotipy.Spotify(auth_manager=SpotifyOAuth(\n",
    "    client_id=CLIENT_ID,\n",
    "    client_secret=CLIENT_SECRET,\n",
    "    redirect_uri=REDIRECT_URI,\n",
    "    scope=\"user-read-recently-played playlist-read-private\"\n",
    "))\n",
    "\n",
    "# Fetch recently played tracks\n",
    "def get_recently_played():\n",
    "    recently_played = sp.current_user_recently_played(limit=50)\n",
    "    data = []\n",
    "    for item in recently_played['items']:\n",
    "        track = item['track']\n",
    "        if 'album' in track and 'name' in track['album']:\n",
    "            playlist_name = track['album']['name']\n",
    "            data.append(playlist_name)\n",
    "    return data\n",
    "\n",
    "# Analyze top playlists\n",
    "def get_top_playlists():\n",
    "    playlist_data = get_recently_played()\n",
    "    playlist_counts = Counter(playlist_data)\n",
    "    top_playlists = playlist_counts.most_common(5)\n",
    "    return top_playlists\n",
    "\n",
    "# Fetch and print top playlists\n",
    "top_playlists = get_top_playlists()\n",
    "print(\"Your Top 5 Playlists:\")\n",
    "for idx, (playlist, count) in enumerate(top_playlists):\n",
    "    print(f\"{idx + 1}: {playlist} - {count} tracks played\")\n"
   ]
  }
 ],
 "metadata": {
  "kernelspec": {
   "display_name": "Python 3 (ipykernel)",
   "language": "python",
   "name": "python3"
  },
  "language_info": {
   "codemirror_mode": {
    "name": "ipython",
    "version": 3
   },
   "file_extension": ".py",
   "mimetype": "text/x-python",
   "name": "python",
   "nbconvert_exporter": "python",
   "pygments_lexer": "ipython3",
   "version": "3.9.5"
  }
 },
 "nbformat": 4,
 "nbformat_minor": 5
}
