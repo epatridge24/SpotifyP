{
 "cells": [
  {
   "cell_type": "markdown",
   "id": "687218cf-432d-423b-aae9-78f0e196083e",
   "metadata": {},
   "source": [
    "What is spotipy?\n",
    "\n",
    "Spotipy is a lightweight Python library for the Spotify Web API. With Spotipy you get full access to all of the music data provided by the Spotify platform."
   ]
  },
  {
   "cell_type": "markdown",
   "id": "2afbdc72-7501-4bd7-b116-01958099b5dd",
   "metadata": {},
   "source": [
    "Getting Started:\n",
    "\n",
    "Use this link to create an app to receive your \"Client ID\" and \"Client Secret\":\n",
    "https://developer.spotify.com/dashboard/"
   ]
  },
  {
   "cell_type": "code",
   "execution_count": null,
   "id": "0da59e8c-1695-464e-bf7c-4f90398bf2d8",
   "metadata": {},
   "outputs": [],
   "source": [
    "# Spotify API credentials (replace with your own)\n",
    "CLIENT_ID = \"Your_Client_ID\"\n",
    "CLIENT_SECRET = \"Your_Client_Secret\"\n",
    "\n",
    "# Initialize Spotify client\n",
    "sp = Spotify(auth_manager=SpotifyClientCredentials(client_id=CLIENT_ID, client_secret=CLIENT_SECRET))"
   ]
  },
  {
   "cell_type": "code",
   "execution_count": null,
   "id": "6df77af4-f58e-4cce-9533-355065407136",
   "metadata": {},
   "outputs": [],
   "source": [
    "import pandas as pd\n",
    "import plotnine as pn\n",
    "from spotipy import Spotify #You need to pip install Spotipy (yes that is a \"p\" not an \"f\")\n",
    "from spotipy.oauth2 import SpotifyClientCredentials"
   ]
  },
  {
   "cell_type": "markdown",
   "id": "c16a5eb0-0d9a-40d5-8874-10ae4596a085",
   "metadata": {},
   "source": [
    "1. Go to spotify and pick an artist, song, or playlist\n",
    "2. Click the 3 circles (Share Option) and click share then copy the link\n",
    "3. From the link get copy the section after the last backslash and before the question mark\n",
    "        https://open.spotify.com/playlist/1g9lewkVhDeGmjBc19nAuV?si=0a138639e68946ab\n",
    "   \"1g9lewkVhDeGmjBc19nAuV\""
   ]
  },
  {
   "cell_type": "code",
   "execution_count": null,
   "id": "598f307d-5585-4b63-ba0e-4bd781d797cc",
   "metadata": {},
   "outputs": [],
   "source": [
    "track = sp.track(\"Your song code here\") \n",
    "print(f\"Track name: {track['name']}\")\n",
    "print(f\"Artist: {track['artists'][0]['name']}\")"
   ]
  },
  {
   "cell_type": "code",
   "execution_count": null,
   "id": "ab4b29c4-532f-43dc-9a19-d50bdbde2822",
   "metadata": {},
   "outputs": [],
   "source": [
    "playlist = sp.playlist(\"Your playlist code here\")\n",
    "print(f\"Playlist Name: {playlist['name']}\")\n",
    "print(f\"Total Tracks: {playlist['tracks']['total']}\")"
   ]
  }
 ],
 "metadata": {
  "kernelspec": {
   "display_name": "Python 3 (ipykernel)",
   "language": "python",
   "name": "python3"
  },
  "language_info": {
   "codemirror_mode": {
    "name": "ipython",
    "version": 3
   },
   "file_extension": ".py",
   "mimetype": "text/x-python",
   "name": "python",
   "nbconvert_exporter": "python",
   "pygments_lexer": "ipython3",
   "version": "3.9.5"
  }
 },
 "nbformat": 4,
 "nbformat_minor": 5
}
